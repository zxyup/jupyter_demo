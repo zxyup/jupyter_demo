{
 "cells": [
  {
   "attachments": {},
   "cell_type": "markdown",
   "metadata": {},
   "source": [
    "## HW1"
   ]
  },
  {
   "cell_type": "code",
   "execution_count": null,
   "metadata": {},
   "outputs": [],
   "source": [
    "def deletechar(str,n):\n",
    "    return str[:n-1]+str[n:]\n",
    "\n",
    "str='Hello World!'\n",
    "print(\"删除前        \"+str)\n",
    "print(\"删除第二个后   \"+deletechar(str,2))"
   ]
  },
  {
   "cell_type": "code",
   "execution_count": null,
   "metadata": {},
   "outputs": [],
   "source": [
    "def sortbydict(str):\n",
    "    ll=list(str)\n",
    "    for j in range(len(ll)-1):\n",
    "        for i in range(len(ll)-j-1):\n",
    "            if(ll[i]>ll[i+1]):\n",
    "                t=ll[i]\n",
    "                ll[i]=ll[i+1]\n",
    "                ll[i+1]=t\n",
    "    new=''.join(ll)\n",
    "    return new\n",
    "\n",
    "str='qwer6tyuiopasd4fg5hjklz7xcvbnm'\n",
    "print(\"按字典序排序后  \"+sortbydict(str))"
   ]
  },
  {
   "cell_type": "code",
   "execution_count": null,
   "metadata": {},
   "outputs": [],
   "source": [
    "from platform import *\n",
    "\n",
    "print(\"名称    \"+system())\n",
    "print(\"平台    \"+platform())\n",
    "print(\"版本号  \"+version())"
   ]
  },
  {
   "attachments": {},
   "cell_type": "markdown",
   "metadata": {},
   "source": [
    "# HW2"
   ]
  },
  {
   "attachments": {},
   "cell_type": "markdown",
   "metadata": {},
   "source": [
    "#### 1.写一个程序计算列表中所有元素的和"
   ]
  },
  {
   "cell_type": "code",
   "execution_count": null,
   "metadata": {},
   "outputs": [],
   "source": [
    "def msum(list):\n",
    "    # return sum(list)\n",
    "    sum=0\n",
    "    for i in list:\n",
    "        sum+=i\n",
    "    return sum\n",
    "\n",
    "list=[1,2,3,4,5,6,7,8,9]\n",
    "print('Sum of list = {}'.format(msum(list)))"
   ]
  },
  {
   "attachments": {},
   "cell_type": "markdown",
   "metadata": {},
   "source": [
    "#### 2.写一个程序将列表中的重复元素删除"
   ]
  },
  {
   "cell_type": "code",
   "execution_count": null,
   "metadata": {},
   "outputs": [],
   "source": [
    "def delmulti(list):\n",
    "    for i in list:\n",
    "        while list.count(i)>1:\n",
    "            list.remove(i)\n",
    "\n",
    "list=[1,1,1,1,2,2,2,2,'aa','aa','aa','cc']\n",
    "print('Before del:',list)\n",
    "delmulti(list)\n",
    "print('After del :',list)"
   ]
  },
  {
   "attachments": {},
   "cell_type": "markdown",
   "metadata": {},
   "source": [
    "#### 3.写一个程序输出列表中第二大的元素"
   ]
  },
  {
   "cell_type": "code",
   "execution_count": null,
   "metadata": {},
   "outputs": [],
   "source": [
    "def out2nd(list):\n",
    "    list1=list[:]\n",
    "    mm=max(list1)\n",
    "    while(list1.count(mm)):\n",
    "        list1.remove(mm)\n",
    "    return max(list1)\n",
    "\n",
    "list=[96,47,92,26,45,68,5,30,90,77,96]\n",
    "print('The 2nd max is ',out2nd(list))"
   ]
  },
  {
   "attachments": {},
   "cell_type": "markdown",
   "metadata": {},
   "source": [
    "# HW2"
   ]
  },
  {
   "attachments": {},
   "cell_type": "markdown",
   "metadata": {},
   "source": [
    "#### 1.写一个程序输出下列图形"
   ]
  },
  {
   "cell_type": "code",
   "execution_count": 1,
   "metadata": {},
   "outputs": [
    {
     "name": "stdout",
     "output_type": "stream",
     "text": [
      "* \n",
      "* * \n",
      "* * * \n",
      "* * * * \n",
      "* * * * * \n",
      "* * * * \n",
      "* * * \n",
      "* * \n",
      "* \n"
     ]
    }
   ],
   "source": [
    "for i in range(1,10):\n",
    "    if i<=5:\n",
    "        print('* '*i)\n",
    "    else:\n",
    "        print('* '*(10-i))"
   ]
  },
  {
   "attachments": {},
   "cell_type": "markdown",
   "metadata": {},
   "source": [
    "#### 2.写一个程序输出元组中偶数和奇数的个数"
   ]
  },
  {
   "cell_type": "code",
   "execution_count": 2,
   "metadata": {},
   "outputs": [
    {
     "name": "stdout",
     "output_type": "stream",
     "text": [
      "元组 (1, 2, 3, 4, 5, 6, 7, 8, 9) 中：\n",
      "偶数有4个\n",
      "奇数有5个\n"
     ]
    }
   ],
   "source": [
    "def out_e_o(tup):\n",
    "    odd=0\n",
    "    even=0\n",
    "    for i in tup:\n",
    "        if i%2:\n",
    "            odd=odd+1\n",
    "        else :\n",
    "            even=even+1\n",
    "    print('元组',tup,'中：')\n",
    "    print('偶数有{}个'.format(even))\n",
    "    print('奇数有{}个'.format(odd))\n",
    "\n",
    "tup=(1,2,3,4,5,6,7,8,9)\n",
    "out_e_o(tup)"
   ]
  },
  {
   "attachments": {},
   "cell_type": "markdown",
   "metadata": {},
   "source": [
    "#### 3.写一个程序输出满足下列条件的矩阵, \n",
    "##### 1)矩阵行列由键盘输入  \n",
    "##### 2)矩阵元素的值为矩阵行列序号的乘积"
   ]
  },
  {
   "cell_type": "code",
   "execution_count": 3,
   "metadata": {},
   "outputs": [
    {
     "name": "stdout",
     "output_type": "stream",
     "text": [
      "shape: (3, 4)\n",
      "1\t2\t3\t4\t\n",
      "\n",
      "2\t4\t6\t8\t\n",
      "\n",
      "3\t6\t9\t12\t\n",
      "\n"
     ]
    }
   ],
   "source": [
    "shape=tuple(map(int,input().split(',')))\n",
    "mat=[]\n",
    "print('shape:',shape)\n",
    "for i in range(shape[0]):\n",
    "    row=[]\n",
    "    for j in range(shape[1]):\n",
    "        row.append((i+1)*(j+1))\n",
    "        print((i+1)*(j+1),end='\\t')\n",
    "    mat.append(row)\n",
    "    print('\\n')\n"
   ]
  }
 ],
 "metadata": {
  "kernelspec": {
   "display_name": "rcv",
   "language": "python",
   "name": "python3"
  },
  "language_info": {
   "codemirror_mode": {
    "name": "ipython",
    "version": 3
   },
   "file_extension": ".py",
   "mimetype": "text/x-python",
   "name": "python",
   "nbconvert_exporter": "python",
   "pygments_lexer": "ipython3",
   "version": "3.9.13"
  },
  "orig_nbformat": 4
 },
 "nbformat": 4,
 "nbformat_minor": 2
}
