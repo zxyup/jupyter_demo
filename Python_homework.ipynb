{
 "cells": [
  {
   "attachments": {},
   "cell_type": "markdown",
   "metadata": {},
   "source": [
    "## HW1"
   ]
  },
  {
   "cell_type": "code",
   "execution_count": null,
   "metadata": {},
   "outputs": [],
   "source": [
    "def deletechar(str,n):\n",
    "    return str[:n-1]+str[n:]\n",
    "\n",
    "str='Hello World!'\n",
    "print(\"删除前        \"+str)\n",
    "print(\"删除第二个后   \"+deletechar(str,2))"
   ]
  },
  {
   "cell_type": "code",
   "execution_count": null,
   "metadata": {},
   "outputs": [],
   "source": [
    "def sortbydict(str):\n",
    "    ll=list(str)\n",
    "    for j in range(len(ll)-1):\n",
    "        for i in range(len(ll)-j-1):\n",
    "            if(ll[i]>ll[i+1]):\n",
    "                t=ll[i]\n",
    "                ll[i]=ll[i+1]\n",
    "                ll[i+1]=t\n",
    "    new=''.join(ll)\n",
    "    return new\n",
    "\n",
    "str='qwer6tyuiopasd4fg5hjklz7xcvbnm'\n",
    "print(\"按字典序排序后  \"+sortbydict(str))"
   ]
  },
  {
   "cell_type": "code",
   "execution_count": null,
   "metadata": {},
   "outputs": [],
   "source": [
    "from platform import *\n",
    "\n",
    "print(\"名称    \"+system())\n",
    "print(\"平台    \"+platform())\n",
    "print(\"版本号  \"+version())"
   ]
  },
  {
   "attachments": {},
   "cell_type": "markdown",
   "metadata": {},
   "source": [
    "# HW2"
   ]
  },
  {
   "attachments": {},
   "cell_type": "markdown",
   "metadata": {},
   "source": [
    "#### 1.写一个程序计算列表中所有元素的和"
   ]
  },
  {
   "cell_type": "code",
   "execution_count": 1,
   "metadata": {},
   "outputs": [
    {
     "name": "stdout",
     "output_type": "stream",
     "text": [
      "Sum of list = 45\n"
     ]
    }
   ],
   "source": [
    "def msum(list):\n",
    "    # return sum(list)\n",
    "    sum=0\n",
    "    for i in list:\n",
    "        sum+=i\n",
    "    return sum\n",
    "\n",
    "list=[1,2,3,4,5,6,7,8,9]\n",
    "print('Sum of list = {}'.format(msum(list)))"
   ]
  },
  {
   "attachments": {},
   "cell_type": "markdown",
   "metadata": {},
   "source": [
    "#### 2.写一个程序将列表中的重复元素删除"
   ]
  },
  {
   "cell_type": "code",
   "execution_count": 2,
   "metadata": {},
   "outputs": [
    {
     "name": "stdout",
     "output_type": "stream",
     "text": [
      "Before del: [1, 1, 1, 1, 2, 2, 2, 2, 'aa', 'aa', 'aa', 'cc']\n",
      "After del : [1, 2, 'aa', 'cc']\n"
     ]
    }
   ],
   "source": [
    "def delmulti(list):\n",
    "    for i in list:\n",
    "        while list.count(i)>1:\n",
    "            list.remove(i)\n",
    "\n",
    "list=[1,1,1,1,2,2,2,2,'aa','aa','aa','cc']\n",
    "print('Before del:',list)\n",
    "delmulti(list)\n",
    "print('After del :',list)"
   ]
  },
  {
   "attachments": {},
   "cell_type": "markdown",
   "metadata": {},
   "source": [
    "#### 3.写一个程序输出列表中第二大的元素"
   ]
  },
  {
   "cell_type": "code",
   "execution_count": 3,
   "metadata": {},
   "outputs": [
    {
     "name": "stdout",
     "output_type": "stream",
     "text": [
      "The 2nd max is  92\n"
     ]
    }
   ],
   "source": [
    "def out2nd(list):\n",
    "    list1=list[:]\n",
    "    mm=max(list1)\n",
    "    while(list1.count(mm)):\n",
    "        list1.remove(mm)\n",
    "    return max(list1)\n",
    "\n",
    "list=[96,47,92,26,45,68,5,30,90,77,96]\n",
    "print('The 2nd max is ',out2nd(list))"
   ]
  }
 ],
 "metadata": {
  "kernelspec": {
   "display_name": "rcv",
   "language": "python",
   "name": "python3"
  },
  "language_info": {
   "codemirror_mode": {
    "name": "ipython",
    "version": 3
   },
   "file_extension": ".py",
   "mimetype": "text/x-python",
   "name": "python",
   "nbconvert_exporter": "python",
   "pygments_lexer": "ipython3",
   "version": "3.9.13"
  },
  "orig_nbformat": 4
 },
 "nbformat": 4,
 "nbformat_minor": 2
}
