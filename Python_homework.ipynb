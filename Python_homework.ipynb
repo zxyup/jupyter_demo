{
 "cells": [
  {
   "cell_type": "code",
   "execution_count": 1,
   "metadata": {},
   "outputs": [
    {
     "name": "stdout",
     "output_type": "stream",
     "text": [
      "删除前        Hello World!\n",
      "删除第二个后   Hllo World!\n"
     ]
    }
   ],
   "source": [
    "def deletechar(str,n):\n",
    "    return str[:n-1]+str[n:]\n",
    "\n",
    "str='Hello World!'\n",
    "print(\"删除前        \"+str)\n",
    "print(\"删除第二个后   \"+deletechar(str,2))"
   ]
  },
  {
   "cell_type": "code",
   "execution_count": 2,
   "metadata": {},
   "outputs": [
    {
     "name": "stdout",
     "output_type": "stream",
     "text": [
      "按字典序排序后  4567abcdefghijklmnopqrstuvwxyz\n"
     ]
    }
   ],
   "source": [
    "def sortbydict(str):\n",
    "    ll=list(str)\n",
    "    for j in range(len(ll)-1):\n",
    "        for i in range(len(ll)-j-1):\n",
    "            if(ll[i]>ll[i+1]):\n",
    "                t=ll[i]\n",
    "                ll[i]=ll[i+1]\n",
    "                ll[i+1]=t\n",
    "    new=''.join(ll)\n",
    "    return new\n",
    "\n",
    "str='qwer6tyuiopasd4fg5hjklz7xcvbnm'\n",
    "print(\"按字典序排序后  \"+sortbydict(str))"
   ]
  },
  {
   "cell_type": "code",
   "execution_count": 3,
   "metadata": {},
   "outputs": [
    {
     "name": "stdout",
     "output_type": "stream",
     "text": [
      "名称    Windows\n",
      "平台    Windows-10-10.0.22000-SP0\n",
      "版本号  10.0.22000\n"
     ]
    }
   ],
   "source": [
    "from platform import *\n",
    "\n",
    "print(\"名称    \"+system())\n",
    "print(\"平台    \"+platform())\n",
    "print(\"版本号  \"+version())"
   ]
  }
 ],
 "metadata": {
  "kernelspec": {
   "display_name": "rcv",
   "language": "python",
   "name": "python3"
  },
  "language_info": {
   "codemirror_mode": {
    "name": "ipython",
    "version": 3
   },
   "file_extension": ".py",
   "mimetype": "text/x-python",
   "name": "python",
   "nbconvert_exporter": "python",
   "pygments_lexer": "ipython3",
   "version": "3.9.13"
  },
  "orig_nbformat": 4
 },
 "nbformat": 4,
 "nbformat_minor": 2
}
